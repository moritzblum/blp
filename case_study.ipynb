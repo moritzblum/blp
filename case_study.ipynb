{
 "cells": [
  {
   "cell_type": "code",
   "execution_count": 182,
   "metadata": {
    "collapsed": true
   },
   "outputs": [],
   "source": [
    "import json\n",
    "import numpy as np\n",
    "import torch\n",
    "import nltk\n",
    "from nltk.tokenize import word_tokenize\n",
    "from textstat import textstat\n",
    "import pandas as pd"
   ]
  },
  {
   "cell_type": "code",
   "execution_count": 157,
   "outputs": [],
   "source": [
    "pred = torch.load('./output/models/triple_ranks_all-2023-12-13-13-59.pt')\n",
    "maps = torch.load('./data/FB15k-237/maps.pt')"
   ],
   "metadata": {
    "collapsed": false
   }
  },
  {
   "cell_type": "code",
   "execution_count": 158,
   "outputs": [],
   "source": [
    "ent_ids, rel_ids = maps['ent_ids'], maps['rel_ids']\n",
    "ent_uris = {v: k for k, v in ent_ids.items()}\n",
    "rel_uris = {v: k for k, v in rel_ids.items()}\n",
    "\n",
    "ent_desc = {}\n",
    "for line in open('./data/FB15k-237/entity2textlong.txt'):\n",
    "    line = line.strip().split('\\t')\n",
    "    ent_desc[line[0]] = line[1]"
   ],
   "metadata": {
    "collapsed": false
   }
  },
  {
   "cell_type": "code",
   "execution_count": 162,
   "outputs": [],
   "source": [
    "triple_char = []\n",
    "for head, relation, tail, head_rank, tail_rank in pred.tolist():\n",
    "    t = {\n",
    "        'head_id': head,\n",
    "        'head': ent_uris[head],\n",
    "        'head_rank': head_rank,\n",
    "        'tail_id': tail,\n",
    "        'tail': ent_uris[tail],\n",
    "        'tail_rank': tail_rank,\n",
    "        'avg_ranks': (head_rank + tail_rank) / 2,\n",
    "\n",
    "    }\n",
    "\n",
    "    if ent_uris[head] in ent_desc:\n",
    "        t['head_desc'] = ent_desc[ent_uris[head]]\n",
    "    if ent_uris[tail] in ent_desc:\n",
    "        t['tail_desc'] = ent_desc[ent_uris[tail]]\n",
    "\n",
    "    triple_char.append(t)"
   ],
   "metadata": {
    "collapsed": false
   }
  },
  {
   "cell_type": "markdown",
   "source": [
    "Add description length"
   ],
   "metadata": {
    "collapsed": false
   }
  },
  {
   "cell_type": "code",
   "execution_count": 163,
   "outputs": [],
   "source": [
    "for triple in triple_char:\n",
    "    if 'head_desc' in triple:\n",
    "        triple['head_desc_len'] = len(word_tokenize(triple['head_desc']))\n",
    "    if 'tail_desc' in triple:\n",
    "        triple['tail_desc_len'] = len(word_tokenize(triple['tail_desc']))\n"
   ],
   "metadata": {
    "collapsed": false
   }
  },
  {
   "cell_type": "markdown",
   "source": [
    "Add Flesch-Kincaid Grade Level"
   ],
   "metadata": {
    "collapsed": false
   }
  },
  {
   "cell_type": "code",
   "execution_count": 164,
   "outputs": [],
   "source": [
    "for triple in triple_char:\n",
    "    if 'head_desc' in triple:\n",
    "        triple['head_flesch'] = textstat.flesch_kincaid_grade(triple['head_desc'])\n",
    "    if 'tail_desc' in triple:\n",
    "        triple['tail_flesch'] = textstat.flesch_kincaid_grade(triple['tail_desc'])"
   ],
   "metadata": {
    "collapsed": false
   }
  },
  {
   "cell_type": "markdown",
   "source": [
    "Add number of links"
   ],
   "metadata": {
    "collapsed": false
   }
  },
  {
   "cell_type": "code",
   "execution_count": 168,
   "outputs": [],
   "source": [
    "page_link_graph = torch.load('./data/FB15k-237/page_link_graph_typed.pt')\n",
    "\n",
    "ent_num_links = {}\n",
    "for head, relation, tail in page_link_graph:\n",
    "    head = head.item()\n",
    "    if head not in ent_num_links:\n",
    "        ent_num_links[head] = 0\n",
    "    ent_num_links[head] += 1\n",
    "\n",
    "for triple in triple_char:\n",
    "    if triple['head_id'] in ent_num_links:\n",
    "        triple['head_num_links'] = ent_num_links[triple['head_id']]\n",
    "    if triple['tail_id'] in ent_num_links:\n",
    "        triple['tail_num_links'] = ent_num_links[triple['tail_id']]"
   ],
   "metadata": {
    "collapsed": false
   }
  },
  {
   "cell_type": "code",
   "execution_count": 189,
   "outputs": [],
   "source": [
    "pearson = []\n",
    "for rank_type in ['head_rank', 'tail_rank', 'avg_ranks']:\n",
    "    pearson.append([])\n",
    "    for characteristic in ['head_desc_len', 'tail_desc_len', 'head_flesch', 'tail_flesch', 'head_num_links', 'tail_num_links']:\n",
    "        ranks = []\n",
    "        characteristics = []\n",
    "\n",
    "        for triple in triple_char:\n",
    "            if rank_type in triple and characteristic in triple:\n",
    "                ranks.append(triple[rank_type])\n",
    "                characteristics.append(triple[characteristic])\n",
    "\n",
    "        pearson[-1].append(np.corrcoef(np.array(ranks), np.array(characteristics))[0,1])"
   ],
   "metadata": {
    "collapsed": false
   }
  },
  {
   "cell_type": "code",
   "execution_count": 190,
   "outputs": [
    {
     "data": {
      "text/plain": "           head_desc_len  tail_desc_len  head_flesch  tail_flesch  \\\nhead_rank      -0.031793      -0.015324    -0.065488    -0.015589   \ntail_rank      -0.004427      -0.025346     0.019666    -0.075631   \navg_ranks      -0.022076      -0.023101    -0.029986    -0.050222   \n\n           head_num_links  tail_num_links  \nhead_rank        0.052671       -0.005927  \ntail_rank        0.000998        0.077713  \navg_ranks        0.033164        0.038237  ",
      "text/html": "<div>\n<style scoped>\n    .dataframe tbody tr th:only-of-type {\n        vertical-align: middle;\n    }\n\n    .dataframe tbody tr th {\n        vertical-align: top;\n    }\n\n    .dataframe thead th {\n        text-align: right;\n    }\n</style>\n<table border=\"1\" class=\"dataframe\">\n  <thead>\n    <tr style=\"text-align: right;\">\n      <th></th>\n      <th>head_desc_len</th>\n      <th>tail_desc_len</th>\n      <th>head_flesch</th>\n      <th>tail_flesch</th>\n      <th>head_num_links</th>\n      <th>tail_num_links</th>\n    </tr>\n  </thead>\n  <tbody>\n    <tr>\n      <th>head_rank</th>\n      <td>-0.031793</td>\n      <td>-0.015324</td>\n      <td>-0.065488</td>\n      <td>-0.015589</td>\n      <td>0.052671</td>\n      <td>-0.005927</td>\n    </tr>\n    <tr>\n      <th>tail_rank</th>\n      <td>-0.004427</td>\n      <td>-0.025346</td>\n      <td>0.019666</td>\n      <td>-0.075631</td>\n      <td>0.000998</td>\n      <td>0.077713</td>\n    </tr>\n    <tr>\n      <th>avg_ranks</th>\n      <td>-0.022076</td>\n      <td>-0.023101</td>\n      <td>-0.029986</td>\n      <td>-0.050222</td>\n      <td>0.033164</td>\n      <td>0.038237</td>\n    </tr>\n  </tbody>\n</table>\n</div>"
     },
     "execution_count": 190,
     "metadata": {},
     "output_type": "execute_result"
    }
   ],
   "source": [
    "pd.DataFrame(pearson, columns=['head_desc_len', 'tail_desc_len', 'head_flesch', 'tail_flesch', 'head_num_links', 'tail_num_links'], index=['head_rank', 'tail_rank', 'avg_ranks'])"
   ],
   "metadata": {
    "collapsed": false
   }
  },
  {
   "cell_type": "markdown",
   "source": [
    "ngram overlap beetween neighbors\n",
    "number of entities by spacy\n",
    "https://arxiv.org/pdf/1904.09675.pdf"
   ],
   "metadata": {
    "collapsed": false
   }
  }
 ],
 "metadata": {
  "kernelspec": {
   "display_name": "Python 3",
   "language": "python",
   "name": "python3"
  },
  "language_info": {
   "codemirror_mode": {
    "name": "ipython",
    "version": 2
   },
   "file_extension": ".py",
   "mimetype": "text/x-python",
   "name": "python",
   "nbconvert_exporter": "python",
   "pygments_lexer": "ipython2",
   "version": "2.7.6"
  }
 },
 "nbformat": 4,
 "nbformat_minor": 0
}
